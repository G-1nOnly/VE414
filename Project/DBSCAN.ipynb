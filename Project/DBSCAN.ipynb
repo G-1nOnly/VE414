{
 "cells": [
  {
   "cell_type": "code",
   "execution_count": 1,
   "metadata": {},
   "outputs": [],
   "source": [
    "import pandas as pd\n",
    "from sklearn.cluster import DBSCAN\n",
    "from sklearn import metrics"
   ]
  },
  {
   "cell_type": "code",
   "execution_count": null,
   "metadata": {},
   "outputs": [],
   "source": [
    "import matplotlib.pyplot as plt\n",
    "\n",
    "data = pd.read_csv(\"data.csv\")\n",
    "X = data[['X', 'Y']]\n",
    "# radius as 0.01 and minPts as 2\n",
    "db = DBSCAN(eps = 1, min_samples = 5).fit(X)\n",
    "\n",
    "labels = db.labels_\n",
    "\n",
    "# 将分类结果存在cluster_db这个column里面\n",
    "data['cluster_db'] = labels\n",
    "\n",
    "display(data.sort_values('cluster_db'))\n",
    "\n",
    "# 轮廓系数（Silhouette Coefficient），是聚类效果好坏的一种评价方式。     \n",
    "# 最佳值为1，最差值为-1。接近0的值表示重叠的群集。负值通常表示样本已分配给错误的聚类，因为不同的聚类更为相似\n",
    "score = metrics.silhouette_score(X, data.cluster_db)\n",
    "print(score)"
   ]
  }
 ],
 "metadata": {
  "kernelspec": {
   "display_name": "Python 3",
   "language": "python",
   "name": "python3"
  },
  "language_info": {
   "codemirror_mode": {
    "name": "ipython",
    "version": 3
   },
   "file_extension": ".py",
   "mimetype": "text/x-python",
   "name": "python",
   "nbconvert_exporter": "python",
   "pygments_lexer": "ipython3",
   "version": "3.7.11"
  }
 },
 "nbformat": 4,
 "nbformat_minor": 4
}
